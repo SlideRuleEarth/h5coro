{
 "cells": [
  {
   "cell_type": "markdown",
   "id": "0",
   "metadata": {
    "user_expressions": []
   },
   "source": [
    "# Examples"
   ]
  },
  {
   "cell_type": "markdown",
   "id": "1",
   "metadata": {
    "tags": [],
    "user_expressions": []
   },
   "source": [
    "## xarray integration\n",
    "\n",
    "**run in an environment with h5coro installed**\n",
    "\n",
    "Using the h5coro engine to open data in xarray."
   ]
  },
  {
   "cell_type": "code",
   "execution_count": null,
   "id": "2",
   "metadata": {
    "tags": []
   },
   "outputs": [],
   "source": [
    "# import warnings\n",
    "\n",
    "# warnings.filterwarnings('ignore')"
   ]
  },
  {
   "cell_type": "code",
   "execution_count": null,
   "id": "3",
   "metadata": {
    "tags": []
   },
   "outputs": [],
   "source": [
    "import xarray as xr\n",
    "import earthaccess"
   ]
  },
  {
   "cell_type": "code",
   "execution_count": null,
   "id": "4",
   "metadata": {},
   "outputs": [],
   "source": [
    "from h5coro.datasets import icesat2\n",
    "col_convs = {} # {\"delta_time\": icesat2.to_datetime}"
   ]
  },
  {
   "cell_type": "markdown",
   "id": "5",
   "metadata": {
    "user_expressions": []
   },
   "source": [
    "Accessing a cloud file"
   ]
  },
  {
   "cell_type": "code",
   "execution_count": null,
   "id": "6",
   "metadata": {
    "tags": []
   },
   "outputs": [],
   "source": [
    "%%time\n",
    "\n",
    "s3url_atl03 = 'nsidc-cumulus-prod-protected/ATLAS/ATL03/006/2019/11/30/ATL03_20191130112041_09860505_006_01.h5'\n",
    "auth = earthaccess.login()\n",
    "creds = auth.get_s3_credentials(daac='NSIDC')\n",
    "ds = xr.open_dataset(s3url_atl03, engine='h5coro', group='/gt1l/heights', col_convs=col_convs, credentials=creds)\n",
    "ds"
   ]
  },
  {
   "cell_type": "markdown",
   "id": "7",
   "metadata": {
    "user_expressions": []
   },
   "source": [
    "Accessing a local file"
   ]
  },
  {
   "cell_type": "code",
   "execution_count": null,
   "id": "8",
   "metadata": {
    "tags": []
   },
   "outputs": [],
   "source": [
    "# local_path = 'file:///home/jovyan/data/ATL03/processed_ATL03_20191130220138_09930502_006_01.h5'\n",
    "local_path = '/data/ATL03_20200401184200_00950707_005_01.h5'\n",
    "ds = None\n",
    "if os.path.exists(local_path):\n",
    "    local_path = 'file://' + local_path\n",
    "    ds = xr.open_dataset(local_path, engine='h5coro', group='/gt1l/heights')\n",
    "ds"
   ]
  },
  {
   "cell_type": "markdown",
   "id": "9",
   "metadata": {
    "user_expressions": []
   },
   "source": [
    "## What xarray typically returns\n",
    "\n",
    "**run in an environment without h5coro installed**\n",
    "\n",
    "Accessing cloud ATL03 data without using h5coro."
   ]
  },
  {
   "cell_type": "code",
   "execution_count": null,
   "id": "10",
   "metadata": {},
   "outputs": [],
   "source": [
    "import xarray as xr\n",
    "import earthaccess"
   ]
  },
  {
   "cell_type": "code",
   "execution_count": null,
   "id": "11",
   "metadata": {},
   "outputs": [],
   "source": [
    "auth = earthaccess.login()\n",
    "s3 = earthaccess.get_s3_filesystem(daac=\"NSIDC\")"
   ]
  },
  {
   "cell_type": "code",
   "execution_count": null,
   "id": "12",
   "metadata": {},
   "outputs": [],
   "source": [
    "%%time\n",
    "s3url_atl03 = 'nsidc-cumulus-prod-protected/ATLAS/ATL03/006/2019/11/30/ATL03_20191130112041_09860505_006_01.h5'\n",
    "ds = xr.open_dataset(s3.open(s3url_atl03, 'rb'), group='/gt1l/heights')\n",
    "ds"
   ]
  },
  {
   "cell_type": "markdown",
   "id": "13",
   "metadata": {
    "user_expressions": []
   },
   "source": [
    "## Two-dimensional product example (ATL23 & ATL20)"
   ]
  },
  {
   "cell_type": "code",
   "execution_count": null,
   "id": "14",
   "metadata": {
    "tags": []
   },
   "outputs": [],
   "source": [
    "import xarray as xr\n",
    "import earthaccess"
   ]
  },
  {
   "cell_type": "markdown",
   "id": "15",
   "metadata": {
    "user_expressions": []
   },
   "source": [
    "### ATL23 \n",
    "\n",
    "(~90 second access time)"
   ]
  },
  {
   "cell_type": "code",
   "execution_count": null,
   "id": "16",
   "metadata": {},
   "outputs": [],
   "source": [
    "auth = earthaccess.login()\n",
    "creds = auth.get_s3_credentials(daac='NSIDC')"
   ]
  },
  {
   "cell_type": "code",
   "execution_count": null,
   "id": "17",
   "metadata": {
    "tags": []
   },
   "outputs": [],
   "source": [
    "%%time\n",
    "\n",
    "s3url_atl23 = 'nsidc-cumulus-prod-protected/ATLAS/ATL23/001/2023/03/01/ATL23_20230401000000_10761801_001_02.h5'\n",
    "ds = xr.open_dataset(s3url_atl23, engine='h5coro', group='/mid_latitude/beam_1', credentials=creds)\n",
    "ds"
   ]
  },
  {
   "cell_type": "code",
   "execution_count": null,
   "id": "18",
   "metadata": {
    "tags": []
   },
   "outputs": [],
   "source": [
    "# mask out nodata values\n",
    "depth_dfw = ds.depth_dfw.where(ds.depth_dfw < 3.4*10**38)"
   ]
  },
  {
   "cell_type": "code",
   "execution_count": null,
   "id": "19",
   "metadata": {
    "tags": []
   },
   "outputs": [],
   "source": [
    "# Must have matplotlib installed in the environment for this example to work\n",
    "depth_dfw.plot()"
   ]
  },
  {
   "cell_type": "markdown",
   "id": "20",
   "metadata": {
    "user_expressions": []
   },
   "source": [
    "### ATL20 \n",
    "\n",
    "(~5 second access time)"
   ]
  },
  {
   "cell_type": "code",
   "execution_count": null,
   "id": "21",
   "metadata": {
    "tags": []
   },
   "outputs": [],
   "source": [
    "%%time\n",
    "\n",
    "s3url_atl20 = 'nsidc-cumulus-prod-protected/ATLAS/ATL20/004/2023/03/01/ATL20-02_20230301013253_10771801_004_02.h5'\n",
    "auth = earthaccess.login()\n",
    "creds = auth.get_s3_credentials(daac='NSIDC')\n",
    "ds = xr.open_dataset(s3url_atl20, engine='h5coro', group='/monthly', credentials=creds)\n",
    "ds"
   ]
  },
  {
   "cell_type": "code",
   "execution_count": null,
   "id": "22",
   "metadata": {
    "tags": []
   },
   "outputs": [],
   "source": [
    "# mask out nodata values\n",
    "mean_fb = ds.mean_fb.where(ds.mean_fb < 3.4*10**38)"
   ]
  },
  {
   "cell_type": "code",
   "execution_count": null,
   "id": "23",
   "metadata": {
    "tags": []
   },
   "outputs": [],
   "source": [
    "# Must have matplotlib installed in the environment for this example to work\n",
    "mean_fb.plot()"
   ]
  }
 ],
 "metadata": {
  "kernelspec": {
   "display_name": "h5coro-h5py-env",
   "language": "python",
   "name": "python3"
  },
  "language_info": {
   "codemirror_mode": {
    "name": "ipython",
    "version": 3
   },
   "file_extension": ".py",
   "mimetype": "text/x-python",
   "name": "python",
   "nbconvert_exporter": "python",
   "pygments_lexer": "ipython3",
   "version": "3.13.1"
  }
 },
 "nbformat": 4,
 "nbformat_minor": 5
}
